{
 "cells": [
  {
   "cell_type": "code",
   "execution_count": null,
   "id": "1c0651a7-44f1-44a7-92da-9feb46aa8b36",
   "metadata": {},
   "outputs": [],
   "source": []
  },
  {
   "cell_type": "markdown",
   "id": "1951e3c8-3540-455f-b220-3882e0385c31",
   "metadata": {},
   "source": [
    "# First Note Book\n",
    "## Steps to Print a Single Line\n",
    "    We will create Code Cell\n",
    "    We will write print command\n",
    "    We will run the cell"
   ]
  },
  {
   "cell_type": "code",
   "execution_count": 1,
   "id": "ac6527bb-9cdb-405a-b62d-51e26bd75d28",
   "metadata": {},
   "outputs": [
    {
     "name": "stdout",
     "output_type": "stream",
     "text": [
      "Welcome to Python Note Book\n"
     ]
    }
   ],
   "source": [
    "print(\"Welcome to Python Note Book\")"
   ]
  },
  {
   "cell_type": "markdown",
   "id": "2ab6e3d8-f8f4-4d34-b1b3-a52b2e3b9d76",
   "metadata": {},
   "source": [
    "## For loop example"
   ]
  },
  {
   "cell_type": "code",
   "execution_count": 2,
   "id": "51420353-2ba8-4aa9-a3ae-69378cd92e0b",
   "metadata": {},
   "outputs": [
    {
     "name": "stdout",
     "output_type": "stream",
     "text": [
      "1\t2\t3\t4\t5\t6\t7\t8\t9\t10\t11\t12\t13\t14\t15\t16\t17\t18\t19\t20\t21\t22\t23\t24\t25\t26\t27\t28\t29\t30\t31\t32\t33\t34\t35\t36\t37\t38\t39\t40\t41\t42\t43\t44\t45\t46\t47\t48\t49\t50\t51\t52\t53\t54\t55\t56\t57\t58\t59\t60\t61\t62\t63\t64\t65\t66\t67\t68\t69\t70\t71\t72\t73\t74\t75\t76\t77\t78\t79\t80\t81\t82\t83\t84\t85\t86\t87\t88\t89\t90\t91\t92\t93\t94\t95\t96\t97\t98\t99\t100\t"
     ]
    }
   ],
   "source": [
    "for num in range(1,101):\n",
    "    print(num,end=\"\\t\")"
   ]
  },
  {
   "cell_type": "code",
   "execution_count": 16,
   "id": "3b6f150d-2f92-4859-8fc7-cf682e4a4263",
   "metadata": {},
   "outputs": [],
   "source": [
    "players=(\"MS.DHONI\",\"MOIN ALI\",\"RASHID KHAN\",\"SUNIL NAREN\")"
   ]
  },
  {
   "cell_type": "code",
   "execution_count": 17,
   "id": "ff142930-e4e4-4603-8c48-d80cc02d9708",
   "metadata": {},
   "outputs": [
    {
     "name": "stdout",
     "output_type": "stream",
     "text": [
      "MS.DHONI\n",
      "MOIN ALI\n",
      "RASHID KHAN\n",
      "SUNIL NAREN\n"
     ]
    }
   ],
   "source": [
    "for player in players:\n",
    "    print(player)"
   ]
  },
  {
   "cell_type": "code",
   "execution_count": null,
   "id": "b15c8035-7825-4fff-b517-876339cba489",
   "metadata": {},
   "outputs": [],
   "source": []
  }
 ],
 "metadata": {
  "kernelspec": {
   "display_name": "Python [conda env:base] *",
   "language": "python",
   "name": "conda-base-py"
  },
  "language_info": {
   "codemirror_mode": {
    "name": "ipython",
    "version": 3
   },
   "file_extension": ".py",
   "mimetype": "text/x-python",
   "name": "python",
   "nbconvert_exporter": "python",
   "pygments_lexer": "ipython3",
   "version": "3.13.5"
  }
 },
 "nbformat": 4,
 "nbformat_minor": 5
}
